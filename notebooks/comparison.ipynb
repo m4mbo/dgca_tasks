{
 "cells": [
  {
   "cell_type": "code",
   "execution_count": null,
   "metadata": {},
   "outputs": [
    {
     "name": "stdout",
     "output_type": "stream",
     "text": [
      "'Reservoir-0': Reservoir(lr=0.5, sr=0.9, input_scaling=1.0, bias_scaling=1.0, fb_scaling=1.0, rc_connectivity=0.1, input_connectivity=0.1, fb_connectivity=0.1, noise_in=0.0, noise_rc=0.0, noise_out=0.0, noise_type=normal, activation=<function tanh at 0x106b267a0>, fb_activation=<function identity at 0x106b268c0>, units=100, noise_generator=functools.partial(<function noise at 0x12b6a5ab0>, rng=Generator(PCG64) at 0x12B39B680), in=None, out=100)\n"
     ]
    }
   ],
   "source": [
    "from reservoirpy.nodes import Reservoir\n",
    "from reservoirpy. as rp\n",
    "import numpy as np\n",
    "\n",
    "# Create a reservoir with 100 units\n",
    "reservoir = Reservoir(100, lr=0.5, sr=0.9)\n",
    "\n",
    "\n",
    "# Access the adjacency matrix (weight matrix)\n",
    "adjacency_matrix = reservoir.W\n",
    "\n",
    "# Print the adjacency matrix\n",
    "print(reservoir)"
   ]
  },
  {
   "cell_type": "code",
   "execution_count": 7,
   "metadata": {},
   "outputs": [
    {
     "data": {
      "text/plain": [
       "(10093, 1)"
      ]
     },
     "execution_count": 7,
     "metadata": {},
     "output_type": "execute_result"
    }
   ],
   "source": [
    "from reservoirpy.datasets import santafe_laser\n",
    "\n",
    "santafe_laser().shape"
   ]
  },
  {
   "cell_type": "code",
   "execution_count": null,
   "metadata": {},
   "outputs": [],
   "source": []
  },
  {
   "cell_type": "code",
   "execution_count": null,
   "metadata": {},
   "outputs": [],
   "source": []
  },
  {
   "cell_type": "code",
   "execution_count": 1,
   "metadata": {},
   "outputs": [],
   "source": [
    "import sys\n",
    "sys.path.append('../')\n",
    "from tasks.metrics import *\n",
    "import numpy as np\n",
    "from tasks.series import *"
   ]
  },
  {
   "cell_type": "code",
   "execution_count": 2,
   "metadata": {},
   "outputs": [],
   "source": [
    "def get_seed(input_nodes, output_nodes, n_states):\n",
    "    \n",
    "    if input_nodes or output_nodes:\n",
    "        n_nodes = input_nodes + output_nodes + 1\n",
    "        A = np.zeros((n_nodes, n_nodes), dtype=int)\n",
    "        \n",
    "        # input nodes\n",
    "        for i in range(input_nodes):\n",
    "            A[i, -1] = 1\n",
    "        # output nodes\n",
    "        for i in range(input_nodes, input_nodes+output_nodes):\n",
    "            A[-1, i] = 1\n",
    "\n",
    "        S = np.zeros((n_nodes, n_states), dtype=int)  \n",
    "        S[:, 0] = 1\n",
    "    else:\n",
    "        A = np.array([[0]])\n",
    "        S = np.zeros((1, n_states), dtype=int)  \n",
    "        S[0, 0] = 1\n",
    "    return A, S"
   ]
  },
  {
   "cell_type": "code",
   "execution_count": 3,
   "metadata": {},
   "outputs": [],
   "source": [
    "A, S = get_seed(4, 4, 3)\n",
    "reservoir = Reservoir(A=A, S=S, input_nodes=4, output_nodes=4)"
   ]
  },
  {
   "cell_type": "code",
   "execution_count": 4,
   "metadata": {},
   "outputs": [
    {
     "data": {
      "text/plain": [
       "array([[0., 0., 0., 0., 1., 1., 1., 1., 0.]])"
      ]
     },
     "execution_count": 4,
     "metadata": {},
     "output_type": "execute_result"
    }
   ],
   "source": [
    "reservoir.w_out"
   ]
  },
  {
   "cell_type": "code",
   "execution_count": 5,
   "metadata": {},
   "outputs": [
    {
     "name": "stdout",
     "output_type": "stream",
     "text": [
      "(10, 1980) (1, 1980)\n"
     ]
    },
    {
     "data": {
      "text/plain": [
       "(1, 1980)"
      ]
     },
     "execution_count": 5,
     "metadata": {},
     "output_type": "execute_result"
    }
   ],
   "source": [
    "u, y = narma(order=10)\n",
    "reservoir.train(u, y).shape"
   ]
  },
  {
   "cell_type": "code",
   "execution_count": 6,
   "metadata": {},
   "outputs": [
    {
     "data": {
      "text/plain": [
       "array([[0.        , 0.        , 0.        , 0.        , 0.51578408,\n",
       "        0.51578408, 0.51578408, 0.51578408, 0.        ]])"
      ]
     },
     "execution_count": 6,
     "metadata": {},
     "output_type": "execute_result"
    }
   ],
   "source": [
    "reservoir.w_out"
   ]
  },
  {
   "cell_type": "code",
   "execution_count": null,
   "metadata": {},
   "outputs": [],
   "source": []
  }
 ],
 "metadata": {
  "kernelspec": {
   "display_name": "dgca_tasks",
   "language": "python",
   "name": "python3"
  },
  "language_info": {
   "codemirror_mode": {
    "name": "ipython",
    "version": 3
   },
   "file_extension": ".py",
   "mimetype": "text/x-python",
   "name": "python",
   "nbconvert_exporter": "python",
   "pygments_lexer": "ipython3",
   "version": "3.10.16"
  }
 },
 "nbformat": 4,
 "nbformat_minor": 2
}
